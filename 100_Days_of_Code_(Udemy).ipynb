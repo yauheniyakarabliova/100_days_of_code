{
  "nbformat": 4,
  "nbformat_minor": 0,
  "metadata": {
    "colab": {
      "provenance": [],
      "authorship_tag": "ABX9TyNfwkhYKtDiYZycGkKZ7aBy",
      "include_colab_link": true
    },
    "kernelspec": {
      "name": "python3",
      "display_name": "Python 3"
    },
    "language_info": {
      "name": "python"
    }
  },
  "cells": [
    {
      "cell_type": "markdown",
      "metadata": {
        "id": "view-in-github",
        "colab_type": "text"
      },
      "source": [
        "<a href=\"https://colab.research.google.com/github/yauheniyakarabliova/100_days_of_code/blob/main/100_Days_of_Code_(Udemy).ipynb\" target=\"_parent\"><img src=\"https://colab.research.google.com/assets/colab-badge.svg\" alt=\"Open In Colab\"/></a>"
      ]
    },
    {
      "cell_type": "markdown",
      "source": [
        "Day 2, #21\n",
        "\n",
        "Write a program that adds the digits in a 2 digit number. e.g. if the input was 35, then the output should be 3 + 5 = 8"
      ],
      "metadata": {
        "id": "bK9BaOGkvZ3L"
      }
    },
    {
      "cell_type": "code",
      "source": [
        "two_digit_number = input(\"Type a two digit number: \")\n",
        "\n",
        "a = int(two_digit_number[0])\n",
        "b = int(two_digit_number[1])\n",
        "\n",
        "print(a + b)"
      ],
      "metadata": {
        "colab": {
          "base_uri": "https://localhost:8080/"
        },
        "id": "C7p-wk-NvnUu",
        "outputId": "cf57c08e-f497-43ef-f340-94879d0e67f1"
      },
      "execution_count": null,
      "outputs": [
        {
          "output_type": "stream",
          "name": "stdout",
          "text": [
            "Type a two digit number: 37\n",
            "10\n"
          ]
        }
      ]
    },
    {
      "cell_type": "markdown",
      "source": [
        "Day 2, #25\n",
        "\n",
        "Create a program using maths and f-Strings that tells us how many days, weeks, months we have left if we live until 90 years old."
      ],
      "metadata": {
        "id": "L3WYB-7HwJNY"
      }
    },
    {
      "cell_type": "code",
      "source": [
        "age = input(\"What is your current age? \")\n",
        "\n",
        "days_90 = 90 * 365\n",
        "weeks_90 = 90 * 52\n",
        "months_90 = 90 * 12\n",
        "\n",
        "x = days_90 - (int(age) * 365)\n",
        "y = weeks_90 - (int(age) * 52)\n",
        "z = months_90 - (int(age) * 12)\n",
        "\n",
        "\n",
        "print(f\"You have {x} days, {y} weeks, and {z} months left.\")"
      ],
      "metadata": {
        "colab": {
          "base_uri": "https://localhost:8080/"
        },
        "id": "zQAz2ptHCJTD",
        "outputId": "6cb26498-066b-4473-f205-d229470bd0cd"
      },
      "execution_count": 4,
      "outputs": [
        {
          "output_type": "stream",
          "name": "stdout",
          "text": [
            "What is your current age? 36\n",
            "You have 19710 days, 2808 weeks, and 648 months left.\n"
          ]
        }
      ]
    }
  ]
}