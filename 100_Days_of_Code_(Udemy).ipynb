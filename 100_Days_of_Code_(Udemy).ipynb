{
  "nbformat": 4,
  "nbformat_minor": 0,
  "metadata": {
    "colab": {
      "provenance": [],
      "authorship_tag": "ABX9TyPPayMZJeH7bqRCDHkrPgEc",
      "include_colab_link": true
    },
    "kernelspec": {
      "name": "python3",
      "display_name": "Python 3"
    },
    "language_info": {
      "name": "python"
    }
  },
  "cells": [
    {
      "cell_type": "markdown",
      "metadata": {
        "id": "view-in-github",
        "colab_type": "text"
      },
      "source": [
        "<a href=\"https://colab.research.google.com/github/yauheniyakarabliova/100_days_of_code/blob/main/100_Days_of_Code_(Udemy).ipynb\" target=\"_parent\"><img src=\"https://colab.research.google.com/assets/colab-badge.svg\" alt=\"Open In Colab\"/></a>"
      ]
    },
    {
      "cell_type": "markdown",
      "source": [
        "**Day 2, #21**\n",
        "\n",
        "Write a program that adds the digits in a 2 digit number. e.g. if the input was 35, then the output should be 3 + 5 = 8"
      ],
      "metadata": {
        "id": "bK9BaOGkvZ3L"
      }
    },
    {
      "cell_type": "code",
      "source": [
        "two_digit_number = input(\"Type a two digit number: \")\n",
        "\n",
        "a = int(two_digit_number[0])\n",
        "b = int(two_digit_number[1])\n",
        "\n",
        "print(a + b)"
      ],
      "metadata": {
        "colab": {
          "base_uri": "https://localhost:8080/"
        },
        "id": "C7p-wk-NvnUu",
        "outputId": "cf57c08e-f497-43ef-f340-94879d0e67f1"
      },
      "execution_count": null,
      "outputs": [
        {
          "output_type": "stream",
          "name": "stdout",
          "text": [
            "Type a two digit number: 37\n",
            "10\n"
          ]
        }
      ]
    },
    {
      "cell_type": "markdown",
      "source": [],
      "metadata": {
        "id": "oT-djawPJHyU"
      }
    },
    {
      "cell_type": "markdown",
      "source": [
        "**Day 2, #25**\n",
        "\n",
        "Create a program using maths and f-Strings that tells us how many days, weeks, months we have left if we live until 90 years old."
      ],
      "metadata": {
        "id": "L3WYB-7HwJNY"
      }
    },
    {
      "cell_type": "code",
      "source": [
        "age = input(\"What is your current age? \")\n",
        "\n",
        "days_90 = 90 * 365\n",
        "weeks_90 = 90 * 52\n",
        "months_90 = 90 * 12\n",
        "\n",
        "x = days_90 - (int(age) * 365)\n",
        "y = weeks_90 - (int(age) * 52)\n",
        "z = months_90 - (int(age) * 12)\n",
        "\n",
        "\n",
        "print(f\"You have {x} days, {y} weeks, and {z} months left.\")"
      ],
      "metadata": {
        "colab": {
          "base_uri": "https://localhost:8080/"
        },
        "id": "zQAz2ptHCJTD",
        "outputId": "6cb26498-066b-4473-f205-d229470bd0cd"
      },
      "execution_count": 4,
      "outputs": [
        {
          "output_type": "stream",
          "name": "stdout",
          "text": [
            "What is your current age? 36\n",
            "You have 19710 days, 2808 weeks, and 648 months left.\n"
          ]
        }
      ]
    },
    {
      "cell_type": "markdown",
      "source": [],
      "metadata": {
        "id": "Nc95VEpWJVqW"
      }
    },
    {
      "cell_type": "markdown",
      "source": [
        "**Day 2, #26**\n",
        "\n",
        "Tips calculator"
      ],
      "metadata": {
        "id": "UDxza5z6HEY8"
      }
    },
    {
      "cell_type": "code",
      "source": [
        "#If the bill was $150.00, split between 5 people, with 12% tip. \n",
        "\n",
        "#Each person should pay (150.00 / 5) * 1.12 = 33.6\n",
        "#Format the result to 2 decimal places = 33.60\n",
        "\n",
        "\n",
        "print(\"Welcome to the tip calculator.\")\n",
        "bill_amount = float(input(\"What was the total bill? $\"))\n",
        "# % of tips (10, 12 or 15)\n",
        "x = 10\n",
        "y = 12 \n",
        "z = 15\n",
        "# ask how much % of tips user wants to give and how many people are total on the table\n",
        "tips_amount = int(input(f\"What percentage tip would you like to give? {x}, {y}, or {z}? \"))\n",
        "people_count = int(input(\"How many people split the bill? \"))\n",
        "#calculate the bill + tips % == bill amount * 1.1 (if 10%) or *1.12 (if 12%) or *1.15 (if 15%)\n",
        "each_person_pay = float((bill_amount * (1 + (tips_amount/100)) / people_count)) \n",
        "\n",
        "print(f\"Each person should pay: ${each_person_pay:.2f}\") #\":.2f\" >> the way to format to show 2 digits in decimals, even if it's 0"
      ],
      "metadata": {
        "colab": {
          "base_uri": "https://localhost:8080/"
        },
        "id": "n8YoHCovHRue",
        "outputId": "614e757b-4dfc-4731-f1c4-6e8d275f06b8"
      },
      "execution_count": 5,
      "outputs": [
        {
          "output_type": "stream",
          "name": "stdout",
          "text": [
            "Welcome to the tip calculator.\n",
            "What was the total bill? $3456\n",
            "What percentage tip would you like to give? 10, 12, or 15? 12\n",
            "How many people split the bill? 6\n",
            "Each person should pay: $645.12\n"
          ]
        }
      ]
    },
    {
      "cell_type": "markdown",
      "source": [],
      "metadata": {
        "id": "Mr0XkQulJbVk"
      }
    },
    {
      "cell_type": "markdown",
      "source": [
        "**Day 3, #30**\n",
        "\n",
        "Odd or Even\n"
      ],
      "metadata": {
        "id": "cUehpAkMHxfk"
      }
    },
    {
      "cell_type": "code",
      "source": [
        "number = int(input(\"Which number do you want to check? \"))\n",
        "\n",
        "if number % 2 == 0:\n",
        "    print(\"This is an even number.\")\n",
        "else:\n",
        "    print(\"This is an odd number.\")"
      ],
      "metadata": {
        "colab": {
          "base_uri": "https://localhost:8080/"
        },
        "id": "dVsQEABHH2rW",
        "outputId": "66265402-25d9-4767-a14b-0f4e54a5ce69"
      },
      "execution_count": 8,
      "outputs": [
        {
          "output_type": "stream",
          "name": "stdout",
          "text": [
            "Which number do you want to check? 4\n",
            "This is an even number.\n"
          ]
        }
      ]
    },
    {
      "cell_type": "markdown",
      "source": [],
      "metadata": {
        "id": "SkEaM7k5JfYY"
      }
    },
    {
      "cell_type": "markdown",
      "source": [
        "**Day 3, #32**\n",
        "\n",
        "BMI calculator\n",
        "Write a program that interprets the Body Mass Index (BMI) based on a user's weight and height.\n",
        "It should tell them the interpretation of their BMI based on the BMI value.\n",
        "Under 18.5 they are underweight\n",
        "Over 18.5 but below 25 they have a normal weight\n",
        "Over 25 but below 30 they are slightly overweight\n",
        "Over 30 but below 35 they are obese\n",
        "Above 35 they are clinically obese."
      ],
      "metadata": {
        "id": "DhtJjC10IJD9"
      }
    },
    {
      "cell_type": "code",
      "source": [
        "height = float(input(\"enter your height in m: \"))\n",
        "weight = float(input(\"enter your weight in kg: \"))\n",
        "\n",
        "user_BMI = round(weight / height ** 2)\n",
        "#print(user_BMI)\n",
        "if user_BMI < 18.5:\n",
        "    print(f\"Your BMI is {user_BMI}, you are underweight.\")\n",
        "elif user_BMI < 25:\n",
        "    print(f\"Your BMI is {user_BMI}, you have a normal weight.\")\n",
        "elif user_BMI < 30:\n",
        "    print(f\"Your BMI is {user_BMI}, you are slightly overweight.\")\n",
        "elif user_BMI < 35:\n",
        "    print(f\"Your BMI is {user_BMI}, you are obese.\")\n",
        "else:\n",
        "    print(f\"Your BMI is {user_BMI}, you are clinically obese.\")"
      ],
      "metadata": {
        "colab": {
          "base_uri": "https://localhost:8080/"
        },
        "id": "yBrThrxWINh0",
        "outputId": "7b3daa56-0cc1-45f2-8eca-ce1cda01af1a"
      },
      "execution_count": 9,
      "outputs": [
        {
          "output_type": "stream",
          "name": "stdout",
          "text": [
            "enter your height in m: 1.68\n",
            "enter your weight in kg: 78.5\n",
            "Your BMI is 28, you are slightly overweight.\n"
          ]
        }
      ]
    }
  ]
}