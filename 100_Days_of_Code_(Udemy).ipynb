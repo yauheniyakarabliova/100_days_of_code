{
  "nbformat": 4,
  "nbformat_minor": 0,
  "metadata": {
    "colab": {
      "provenance": [],
      "authorship_tag": "ABX9TyN+v9U+COvjwzMjkp4WN5XG",
      "include_colab_link": true
    },
    "kernelspec": {
      "name": "python3",
      "display_name": "Python 3"
    },
    "language_info": {
      "name": "python"
    }
  },
  "cells": [
    {
      "cell_type": "markdown",
      "metadata": {
        "id": "view-in-github",
        "colab_type": "text"
      },
      "source": [
        "<a href=\"https://colab.research.google.com/github/yauheniyakarabliova/100_days_of_code/blob/main/100_Days_of_Code_(Udemy).ipynb\" target=\"_parent\"><img src=\"https://colab.research.google.com/assets/colab-badge.svg\" alt=\"Open In Colab\"/></a>"
      ]
    },
    {
      "cell_type": "markdown",
      "source": [
        "**Day 2, #21**\n",
        "\n",
        "Write a program that adds the digits in a 2 digit number. e.g. if the input was 35, then the output should be 3 + 5 = 8"
      ],
      "metadata": {
        "id": "bK9BaOGkvZ3L"
      }
    },
    {
      "cell_type": "code",
      "source": [
        "two_digit_number = input(\"Type a two digit number: \")\n",
        "\n",
        "a = int(two_digit_number[0])\n",
        "b = int(two_digit_number[1])\n",
        "\n",
        "print(a + b)"
      ],
      "metadata": {
        "colab": {
          "base_uri": "https://localhost:8080/"
        },
        "id": "C7p-wk-NvnUu",
        "outputId": "cf57c08e-f497-43ef-f340-94879d0e67f1"
      },
      "execution_count": null,
      "outputs": [
        {
          "output_type": "stream",
          "name": "stdout",
          "text": [
            "Type a two digit number: 37\n",
            "10\n"
          ]
        }
      ]
    },
    {
      "cell_type": "markdown",
      "source": [],
      "metadata": {
        "id": "oT-djawPJHyU"
      }
    },
    {
      "cell_type": "markdown",
      "source": [
        "**Day 2, #25**\n",
        "\n",
        "Create a program using maths and f-Strings that tells us how many days, weeks, months we have left if we live until 90 years old."
      ],
      "metadata": {
        "id": "L3WYB-7HwJNY"
      }
    },
    {
      "cell_type": "code",
      "source": [
        "age = input(\"What is your current age? \")\n",
        "\n",
        "days_90 = 90 * 365\n",
        "weeks_90 = 90 * 52\n",
        "months_90 = 90 * 12\n",
        "\n",
        "x = days_90 - (int(age) * 365)\n",
        "y = weeks_90 - (int(age) * 52)\n",
        "z = months_90 - (int(age) * 12)\n",
        "\n",
        "\n",
        "print(f\"You have {x} days, {y} weeks, and {z} months left.\")"
      ],
      "metadata": {
        "colab": {
          "base_uri": "https://localhost:8080/"
        },
        "id": "zQAz2ptHCJTD",
        "outputId": "6cb26498-066b-4473-f205-d229470bd0cd"
      },
      "execution_count": null,
      "outputs": [
        {
          "output_type": "stream",
          "name": "stdout",
          "text": [
            "What is your current age? 36\n",
            "You have 19710 days, 2808 weeks, and 648 months left.\n"
          ]
        }
      ]
    },
    {
      "cell_type": "markdown",
      "source": [],
      "metadata": {
        "id": "Nc95VEpWJVqW"
      }
    },
    {
      "cell_type": "markdown",
      "source": [
        "**Day 2, #26**\n",
        "\n",
        "Tips calculator"
      ],
      "metadata": {
        "id": "UDxza5z6HEY8"
      }
    },
    {
      "cell_type": "code",
      "source": [
        "#If the bill was $150.00, split between 5 people, with 12% tip. \n",
        "\n",
        "#Each person should pay (150.00 / 5) * 1.12 = 33.6\n",
        "#Format the result to 2 decimal places = 33.60\n",
        "\n",
        "\n",
        "print(\"Welcome to the tip calculator.\")\n",
        "bill_amount = float(input(\"What was the total bill? $\"))\n",
        "# % of tips (10, 12 or 15)\n",
        "x = 10\n",
        "y = 12 \n",
        "z = 15\n",
        "# ask how much % of tips user wants to give and how many people are total on the table\n",
        "tips_amount = int(input(f\"What percentage tip would you like to give? {x}, {y}, or {z}? \"))\n",
        "people_count = int(input(\"How many people split the bill? \"))\n",
        "#calculate the bill + tips % == bill amount * 1.1 (if 10%) or *1.12 (if 12%) or *1.15 (if 15%)\n",
        "each_person_pay = float((bill_amount * (1 + (tips_amount/100)) / people_count)) \n",
        "\n",
        "print(f\"Each person should pay: ${each_person_pay:.2f}\") #\":.2f\" >> the way to format to show 2 digits in decimals, even if it's 0"
      ],
      "metadata": {
        "colab": {
          "base_uri": "https://localhost:8080/"
        },
        "id": "n8YoHCovHRue",
        "outputId": "614e757b-4dfc-4731-f1c4-6e8d275f06b8"
      },
      "execution_count": null,
      "outputs": [
        {
          "output_type": "stream",
          "name": "stdout",
          "text": [
            "Welcome to the tip calculator.\n",
            "What was the total bill? $3456\n",
            "What percentage tip would you like to give? 10, 12, or 15? 12\n",
            "How many people split the bill? 6\n",
            "Each person should pay: $645.12\n"
          ]
        }
      ]
    },
    {
      "cell_type": "markdown",
      "source": [],
      "metadata": {
        "id": "Mr0XkQulJbVk"
      }
    },
    {
      "cell_type": "markdown",
      "source": [
        "**Day 3, #30**\n",
        "\n",
        "Odd or Even\n"
      ],
      "metadata": {
        "id": "cUehpAkMHxfk"
      }
    },
    {
      "cell_type": "code",
      "source": [
        "number = int(input(\"Which number do you want to check? \"))\n",
        "\n",
        "if number % 2 == 0:\n",
        "    print(\"This is an even number.\")\n",
        "else:\n",
        "    print(\"This is an odd number.\")"
      ],
      "metadata": {
        "colab": {
          "base_uri": "https://localhost:8080/"
        },
        "id": "dVsQEABHH2rW",
        "outputId": "66265402-25d9-4767-a14b-0f4e54a5ce69"
      },
      "execution_count": null,
      "outputs": [
        {
          "output_type": "stream",
          "name": "stdout",
          "text": [
            "Which number do you want to check? 4\n",
            "This is an even number.\n"
          ]
        }
      ]
    },
    {
      "cell_type": "markdown",
      "source": [],
      "metadata": {
        "id": "SkEaM7k5JfYY"
      }
    },
    {
      "cell_type": "markdown",
      "source": [
        "**Day 3, #32**\n",
        "\n",
        "BMI calculator\n",
        "Write a program that interprets the Body Mass Index (BMI) based on a user's weight and height.\n",
        "It should tell them the interpretation of their BMI based on the BMI value.\n",
        "Under 18.5 they are underweight\n",
        "Over 18.5 but below 25 they have a normal weight\n",
        "Over 25 but below 30 they are slightly overweight\n",
        "Over 30 but below 35 they are obese\n",
        "Above 35 they are clinically obese."
      ],
      "metadata": {
        "id": "DhtJjC10IJD9"
      }
    },
    {
      "cell_type": "code",
      "source": [
        "height = float(input(\"enter your height in m: \"))\n",
        "weight = float(input(\"enter your weight in kg: \"))\n",
        "\n",
        "user_BMI = round(weight / height ** 2)\n",
        "#print(user_BMI)\n",
        "if user_BMI < 18.5:\n",
        "    print(f\"Your BMI is {user_BMI}, you are underweight.\")\n",
        "elif user_BMI < 25:\n",
        "    print(f\"Your BMI is {user_BMI}, you have a normal weight.\")\n",
        "elif user_BMI < 30:\n",
        "    print(f\"Your BMI is {user_BMI}, you are slightly overweight.\")\n",
        "elif user_BMI < 35:\n",
        "    print(f\"Your BMI is {user_BMI}, you are obese.\")\n",
        "else:\n",
        "    print(f\"Your BMI is {user_BMI}, you are clinically obese.\")"
      ],
      "metadata": {
        "colab": {
          "base_uri": "https://localhost:8080/"
        },
        "id": "yBrThrxWINh0",
        "outputId": "7b3daa56-0cc1-45f2-8eca-ce1cda01af1a"
      },
      "execution_count": null,
      "outputs": [
        {
          "output_type": "stream",
          "name": "stdout",
          "text": [
            "enter your height in m: 1.68\n",
            "enter your weight in kg: 78.5\n",
            "Your BMI is 28, you are slightly overweight.\n"
          ]
        }
      ]
    },
    {
      "cell_type": "markdown",
      "source": [],
      "metadata": {
        "id": "gS7ieoSkJwWE"
      }
    },
    {
      "cell_type": "markdown",
      "source": [
        "**Day 3, #33**\n",
        "\n",
        "Leap year\n",
        "Write a program that works out whether if a given year is a leap year. A normal year has 365 days, leap years have 366, with an extra day in February. The reason why we have leap years is really fascinating, this video does it more justice:\n",
        "https://www.youtube.com/watch?v=xX96xng7sAE\n",
        "This is how you work out whether if a particular year is a leap year.\n",
        "on every year that is evenly divisible by 4 \n",
        "**except** every year that is evenly divisible by 100 \n",
        "**unless** the year is also evenly divisible by 400 \n",
        "\n",
        "Flowchart [link text](https://viewer.diagrams.net/index.html?target=blank&highlight=0000ff&edit=_blank&layers=1&nav=1&title=Leap%20Algorithm#R7VpNc9owEP01HNuxJdmYY4CkzTTNdEpmmhyFrdhqhcXIIkB%2BfSUsY4wcQhqwC%2B0p0urDu29Xu08KHTiYLD4JPE2%2B8oiwDnCiRQcOOwC4CPjqj5Ysc0k3gLkgFjQyk0rBiD4TI3SMdEYjklUmSs6ZpNOqMORpSkJZkWEh%2BLw67ZGz6lenOCaWYBRiZkt/0EgmuTQA3VL%2BmdA4Kb7s%2Br18ZIKLycaSLMERn2%2BI4GUHDgTnMm9NFgPCNHgFLvm6qxdG14oJksp9FoDbYTJlQFxPomj0Jbzr4tT9YJTN5LIwmETKftPlQiY85ilml6W0L/gsjYje1VG9cs4N51MldJXwJ5FyaZyJZ5IrUSInzIwqhcXyXq//6BXdB7PdqjNcVHpL08t11Qq%2BCIERZXwmQrLD7iKUsIiJ3DEPrB2lIpzwCVH6qHWCMCzpU1UPbEItXs8rvaEaxiFvcI7Z9wmzmfnS6O7i%2B53lstIhGt15QiUZTfHK/rk6lVXwzZ5ESLLYDaNttlkAYE85brVoWZxWE%2BTz8oy4xRFONs4Hco6ElfePBjLYM5DhOwN5tfRCCLzcmDDlNJXZxs7ftKAMFLcLtgKlyOulq/M9S8evlfvzWPD/x8LOWHCdQwSD5W3kdre97W8d91w1s64Mg7fGFQLWl5qIK2Dl4%2BtMr9GahYzglGkjOsBnCv3%2BWKhWrFsRfaIZHas4A85YT0EdeGVn8YRPxrOsmQxe8Jcif3dr8jf07PwdHCt/QwvbW65xvSHK/HcVvEfK2IAzLlZr4WMQkjBU8kwK/otsjIwDD3nOYQB23SrA65PQWoHs1gBsAasMllX0MKNxqtqhMpwooPoaFqr48YUZmNAoyjMoyegzHq%2B20iiaQ6z29fodb6j3Ukkzy/PngeLYDSwm0rOBhjU4g2PhHFg4P5Ds5IGG/j5AoyaBdmErZX5B5X1RyFX7oaz4qlfWeN0pSvxfQA2KVPM6N2j3xhO06VP3XH2KWvWpcyjapG%2BZLRMn6IPX63pdvTkacXJtVnpwzhR5JIhQHWcKwBj6/oFIqVfFFtaR0kY5E2jnVeFESwzaMx2BVtMRaOd14ERLzL4%2BdXutlhh0qBKD2i8xyNum2rWJsI5rH6/I9M6lyHi9bXRRzUWm4TJjM6RzuDOi3hZXClq%2BMRYmnNcbCHS3I7oO6EbfQIDNSc8AaGQBDdt%2BbAL2s%2Bk5ZA47Sdch3WzusCnGST9QQ9RkHVTd8ocO%2Bb9jyp%2BLwMvf)\n"
      ],
      "metadata": {
        "id": "qi5b_xrGME3q"
      }
    },
    {
      "cell_type": "code",
      "source": [
        "year = int(input(\"Which year do you want to check? \"))\n",
        "\n",
        "if year % 4 == 0:\n",
        "    if year % 100 == 0:\n",
        "        if year % 400 == 00:\n",
        "            print(\"Leap year.\")\n",
        "        else:\n",
        "            print(\"Not leap year.\")\n",
        "    else:\n",
        "        print(\"Leap year.\")\n",
        "else:\n",
        "    print(\"Not leap year.\")   "
      ],
      "metadata": {
        "colab": {
          "base_uri": "https://localhost:8080/"
        },
        "id": "EVeEX-TpJv4t",
        "outputId": "71f79ef2-43c9-46dc-fa42-6a5e833dcbd6"
      },
      "execution_count": 11,
      "outputs": [
        {
          "output_type": "stream",
          "name": "stdout",
          "text": [
            "Which year do you want to check? 1999\n",
            "Not leap year.\n"
          ]
        }
      ]
    },
    {
      "cell_type": "markdown",
      "source": [],
      "metadata": {
        "id": "qMgT8eLKNLrA"
      }
    },
    {
      "cell_type": "markdown",
      "source": [
        "**Day 3, #38**\n",
        "\n",
        "Treasure island\n",
        "\n",
        "Flowchart [link text](https://www.draw.io/?lightbox=1&highlight=0000ff&edit=_blank&layers=1&nav=1&title=Treasure%20Island%20Conditional.drawio#Uhttps%3A%2F%2Fdrive.google.com%2Fuc%3Fid%3D1oDe4ehjWZipYRsVfeAx2HyB7LCQ8_Fvi%26export%3Ddownload)"
      ],
      "metadata": {
        "id": "L1nMwMu-NMz6"
      }
    },
    {
      "cell_type": "code",
      "source": [
        "print('''\n",
        "*******************************************************************************\n",
        "          |                   |                  |                     |\n",
        " _________|________________.=\"\"_;=.______________|_____________________|_______\n",
        "|                   |  ,-\"_,=\"\"     `\"=.|                  |\n",
        "|___________________|__\"=._o`\"-._        `\"=.______________|___________________\n",
        "          |                `\"=._o`\"=._      _`\"=._                     |\n",
        " _________|_____________________:=._o \"=._.\"_.-=\"'\"=.__________________|_______\n",
        "|                   |    __.--\" , ; `\"=._o.\" ,-\"\"\"-._ \".   |\n",
        "|___________________|_._\"  ,. .` ` `` ,  `\"-._\"-._   \". '__|___________________\n",
        "          |           |o`\"=._` , \"` `; .\". ,  \"-._\"-._; ;              |\n",
        " _________|___________| ;`-.o`\"=._; .\" ` '`.\"\\` . \"-._ /_______________|_______\n",
        "|                   | |o;    `\"-.o`\"=._``  '` \" ,__.--o;   |\n",
        "|___________________|_| ;     (#) `-.o `\"=.`_.--\"_o.-; ;___|___________________\n",
        "____/______/______/___|o;._    \"      `\".o|o_.--\"    ;o;____/______/______/____\n",
        "/______/______/______/_\"=._o--._        ; | ;        ; ;/______/______/______/_\n",
        "____/______/______/______/__\"=._o--._   ;o|o;     _._;o;____/______/______/____\n",
        "/______/______/______/______/____\"=._o._; | ;_.--\"o.--\"_/______/______/______/_\n",
        "____/______/______/______/______/_____\"=.o|o_.--\"\"___/______/______/______/____\n",
        "/______/______/______/______/______/______/______/______/______/______/_____ /\n",
        "*******************************************************************************\n",
        "''')\n",
        "print(\"Welcome to Treasure Island.\")\n",
        "print(\"Your mission is to find the treasure.\")\n",
        "\n",
        "\n",
        "turn = (input(\"You're at a cross road. Where do you want to go? Type \" +\n",
        "             '\"left\"' + \"or\" + '\"right.\" \\n')).lower()\n",
        "\n",
        "if turn == \"left\":\n",
        "  swim_or_wait = (input(\"You've come to a lake. There is an island in the middle of the lake. Type \" + '\"wait\" ' + \"to wait for a boat. Type \" + '\"swim\" ' + \"to swim across. \\n\")).lower()\n",
        "  if swim_or_wait == \"wait\":\n",
        "    door = (input(\"You arrive at the island unharmed. There is a house with 3 doors. One red, one yellow and one blue. Which colour do you choose?\\n\")).lower()\n",
        "    if door == \"red\":\n",
        "      print(\"You are burnt by fire. Game over.\")\n",
        "    elif door == \"yellow\":\n",
        "      print(\"You found the treasure! You Win!\")\n",
        "    elif door == \"blue\":\n",
        "      print(\"You're eaten by beasts. Game over.\")\n",
        "    else:\n",
        "      print(\"There is no such door. Game over.\")\n",
        "  else:\n",
        "    print(\"You've been attached by a trout. Game over.\")\n",
        "else:\n",
        "  print(\"You've fallen into a hole. Game over.\")"
      ],
      "metadata": {
        "colab": {
          "base_uri": "https://localhost:8080/"
        },
        "id": "bH0Djo8aOq57",
        "outputId": "d5ec8238-7445-4509-aa56-fbde04327e98"
      },
      "execution_count": 12,
      "outputs": [
        {
          "output_type": "stream",
          "name": "stdout",
          "text": [
            "\n",
            "*******************************************************************************\n",
            "          |                   |                  |                     |\n",
            " _________|________________.=\"\"_;=.______________|_____________________|_______\n",
            "|                   |  ,-\"_,=\"\"     `\"=.|                  |\n",
            "|___________________|__\"=._o`\"-._        `\"=.______________|___________________\n",
            "          |                `\"=._o`\"=._      _`\"=._                     |\n",
            " _________|_____________________:=._o \"=._.\"_.-=\"'\"=.__________________|_______\n",
            "|                   |    __.--\" , ; `\"=._o.\" ,-\"\"\"-._ \".   |\n",
            "|___________________|_._\"  ,. .` ` `` ,  `\"-._\"-._   \". '__|___________________\n",
            "          |           |o`\"=._` , \"` `; .\". ,  \"-._\"-._; ;              |\n",
            " _________|___________| ;`-.o`\"=._; .\" ` '`.\"\\` . \"-._ /_______________|_______\n",
            "|                   | |o;    `\"-.o`\"=._``  '` \" ,__.--o;   |\n",
            "|___________________|_| ;     (#) `-.o `\"=.`_.--\"_o.-; ;___|___________________\n",
            "____/______/______/___|o;._    \"      `\".o|o_.--\"    ;o;____/______/______/____\n",
            "/______/______/______/_\"=._o--._        ; | ;        ; ;/______/______/______/_\n",
            "____/______/______/______/__\"=._o--._   ;o|o;     _._;o;____/______/______/____\n",
            "/______/______/______/______/____\"=._o._; | ;_.--\"o.--\"_/______/______/______/_\n",
            "____/______/______/______/______/_____\"=.o|o_.--\"\"___/______/______/______/____\n",
            "/______/______/______/______/______/______/______/______/______/______/_____ /\n",
            "*******************************************************************************\n",
            "\n",
            "Welcome to Treasure Island.\n",
            "Your mission is to find the treasure.\n",
            "You're at a cross road. Where do you want to go? Type \"left\"or\"right.\" \n",
            "left\n",
            "You've come to a lake. There is an island in the middle of the lake. Type \"wait\" to wait for a boat. Type \"swim\" to swim across. \n",
            "swim\n",
            "You've been attached by a trout. Game over.\n"
          ]
        }
      ]
    }
  ]
}